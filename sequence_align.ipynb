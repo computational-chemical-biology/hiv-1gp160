{
  "nbformat": 4,
  "nbformat_minor": 5,
  "metadata": {
    "kernelspec": {
      "display_name": "Python 3 (ipykernel)",
      "language": "python",
      "name": "python3"
    },
    "language_info": {
      "codemirror_mode": {
        "name": "ipython",
        "version": 3
      },
      "file_extension": ".py",
      "mimetype": "text/x-python",
      "name": "python",
      "nbconvert_exporter": "python",
      "pygments_lexer": "ipython3",
      "version": "3.9.7"
    },
    "colab": {
      "name": "sequence_align.ipynb",
      "provenance": []
    }
  },
  "cells": [
    {
      "cell_type": "markdown",
      "metadata": {
        "id": "8c13f994"
      },
      "source": [
        "### Introduction"
      ],
      "id": "8c13f994"
    },
    {
      "cell_type": "markdown",
      "metadata": {
        "id": "4041ea0b"
      },
      "source": [
        "To learn about possibillities of alignment analisys, take a look at [biopython](http://biopython.org/DIST/docs/tutorial/Tutorial.html). To start, [this](https://nbviewer.org/github/cgoliver/Notebooks/blob/master/COMP_364/L25/L25.ipynb) and [this](http://training.scicomp.jic.ac.uk/docs/phylogenetics_course_book/tree_building_excercises.html) tutorials can also be used.\n",
        "\n",
        "To start the tests we search for HIV-1's gp120 [sequences](https://www.ncbi.nlm.nih.gov/nuccore/?term=hiv-1%20gp160). Here we use a selection of the 13312 sequences to perform the tests.\n",
        "\n",
        "We also use [MAFFT](https://mafft.cbrc.jp/alignment/software/), [i-qtree](http://www.iqtree.org/doc/Tutorial) and [ETE Toolkit](http://etetoolkit.org/docs/latest/tutorial/tutorial_phylogeny.html) for visualization. Take a look at the [online version](https://www.genome.jp/tools-bin/ete).\n",
        "\n",
        "We can later invetigate [protein structures](https://blog.jcharistech.com/2020/04/24/protein-sequence-analysis-of-covid19-using-biopython/)."
      ],
      "id": "4041ea0b"
    },
    {
      "cell_type": "markdown",
      "metadata": {
        "id": "2b56d093"
      },
      "source": [
        "#### Basic sequence handling"
      ],
      "id": "2b56d093"
    },
    {
      "cell_type": "code",
      "metadata": {
        "colab": {
          "base_uri": "https://localhost:8080/"
        },
        "id": "9FH9aktqwCZr",
        "outputId": "73e1f7bd-a846-4324-e13a-44887d89768a"
      },
      "source": [
        "!pip install biopython"
      ],
      "id": "9FH9aktqwCZr",
      "execution_count": 1,
      "outputs": [
        {
          "output_type": "stream",
          "name": "stdout",
          "text": [
            "Collecting biopython\n",
            "  Downloading biopython-1.79-cp37-cp37m-manylinux_2_5_x86_64.manylinux1_x86_64.whl (2.3 MB)\n",
            "\u001b[?25l\r\u001b[K     |▏                               | 10 kB 29.3 MB/s eta 0:00:01\r\u001b[K     |▎                               | 20 kB 38.9 MB/s eta 0:00:01\r\u001b[K     |▍                               | 30 kB 46.2 MB/s eta 0:00:01\r\u001b[K     |▋                               | 40 kB 36.6 MB/s eta 0:00:01\r\u001b[K     |▊                               | 51 kB 19.1 MB/s eta 0:00:01\r\u001b[K     |▉                               | 61 kB 14.0 MB/s eta 0:00:01\r\u001b[K     |█                               | 71 kB 13.9 MB/s eta 0:00:01\r\u001b[K     |█▏                              | 81 kB 15.5 MB/s eta 0:00:01\r\u001b[K     |█▎                              | 92 kB 17.0 MB/s eta 0:00:01\r\u001b[K     |█▍                              | 102 kB 12.6 MB/s eta 0:00:01\r\u001b[K     |█▋                              | 112 kB 12.6 MB/s eta 0:00:01\r\u001b[K     |█▊                              | 122 kB 12.6 MB/s eta 0:00:01\r\u001b[K     |█▉                              | 133 kB 12.6 MB/s eta 0:00:01\r\u001b[K     |██                              | 143 kB 12.6 MB/s eta 0:00:01\r\u001b[K     |██▏                             | 153 kB 12.6 MB/s eta 0:00:01\r\u001b[K     |██▎                             | 163 kB 12.6 MB/s eta 0:00:01\r\u001b[K     |██▍                             | 174 kB 12.6 MB/s eta 0:00:01\r\u001b[K     |██▋                             | 184 kB 12.6 MB/s eta 0:00:01\r\u001b[K     |██▊                             | 194 kB 12.6 MB/s eta 0:00:01\r\u001b[K     |██▉                             | 204 kB 12.6 MB/s eta 0:00:01\r\u001b[K     |███                             | 215 kB 12.6 MB/s eta 0:00:01\r\u001b[K     |███▏                            | 225 kB 12.6 MB/s eta 0:00:01\r\u001b[K     |███▎                            | 235 kB 12.6 MB/s eta 0:00:01\r\u001b[K     |███▌                            | 245 kB 12.6 MB/s eta 0:00:01\r\u001b[K     |███▋                            | 256 kB 12.6 MB/s eta 0:00:01\r\u001b[K     |███▊                            | 266 kB 12.6 MB/s eta 0:00:01\r\u001b[K     |███▉                            | 276 kB 12.6 MB/s eta 0:00:01\r\u001b[K     |████                            | 286 kB 12.6 MB/s eta 0:00:01\r\u001b[K     |████▏                           | 296 kB 12.6 MB/s eta 0:00:01\r\u001b[K     |████▎                           | 307 kB 12.6 MB/s eta 0:00:01\r\u001b[K     |████▌                           | 317 kB 12.6 MB/s eta 0:00:01\r\u001b[K     |████▋                           | 327 kB 12.6 MB/s eta 0:00:01\r\u001b[K     |████▊                           | 337 kB 12.6 MB/s eta 0:00:01\r\u001b[K     |████▉                           | 348 kB 12.6 MB/s eta 0:00:01\r\u001b[K     |█████                           | 358 kB 12.6 MB/s eta 0:00:01\r\u001b[K     |█████▏                          | 368 kB 12.6 MB/s eta 0:00:01\r\u001b[K     |█████▎                          | 378 kB 12.6 MB/s eta 0:00:01\r\u001b[K     |█████▌                          | 389 kB 12.6 MB/s eta 0:00:01\r\u001b[K     |█████▋                          | 399 kB 12.6 MB/s eta 0:00:01\r\u001b[K     |█████▊                          | 409 kB 12.6 MB/s eta 0:00:01\r\u001b[K     |██████                          | 419 kB 12.6 MB/s eta 0:00:01\r\u001b[K     |██████                          | 430 kB 12.6 MB/s eta 0:00:01\r\u001b[K     |██████▏                         | 440 kB 12.6 MB/s eta 0:00:01\r\u001b[K     |██████▎                         | 450 kB 12.6 MB/s eta 0:00:01\r\u001b[K     |██████▌                         | 460 kB 12.6 MB/s eta 0:00:01\r\u001b[K     |██████▋                         | 471 kB 12.6 MB/s eta 0:00:01\r\u001b[K     |██████▊                         | 481 kB 12.6 MB/s eta 0:00:01\r\u001b[K     |███████                         | 491 kB 12.6 MB/s eta 0:00:01\r\u001b[K     |███████                         | 501 kB 12.6 MB/s eta 0:00:01\r\u001b[K     |███████▏                        | 512 kB 12.6 MB/s eta 0:00:01\r\u001b[K     |███████▎                        | 522 kB 12.6 MB/s eta 0:00:01\r\u001b[K     |███████▌                        | 532 kB 12.6 MB/s eta 0:00:01\r\u001b[K     |███████▋                        | 542 kB 12.6 MB/s eta 0:00:01\r\u001b[K     |███████▊                        | 552 kB 12.6 MB/s eta 0:00:01\r\u001b[K     |████████                        | 563 kB 12.6 MB/s eta 0:00:01\r\u001b[K     |████████                        | 573 kB 12.6 MB/s eta 0:00:01\r\u001b[K     |████████▏                       | 583 kB 12.6 MB/s eta 0:00:01\r\u001b[K     |████████▍                       | 593 kB 12.6 MB/s eta 0:00:01\r\u001b[K     |████████▌                       | 604 kB 12.6 MB/s eta 0:00:01\r\u001b[K     |████████▋                       | 614 kB 12.6 MB/s eta 0:00:01\r\u001b[K     |████████▊                       | 624 kB 12.6 MB/s eta 0:00:01\r\u001b[K     |█████████                       | 634 kB 12.6 MB/s eta 0:00:01\r\u001b[K     |█████████                       | 645 kB 12.6 MB/s eta 0:00:01\r\u001b[K     |█████████▏                      | 655 kB 12.6 MB/s eta 0:00:01\r\u001b[K     |█████████▍                      | 665 kB 12.6 MB/s eta 0:00:01\r\u001b[K     |█████████▌                      | 675 kB 12.6 MB/s eta 0:00:01\r\u001b[K     |█████████▋                      | 686 kB 12.6 MB/s eta 0:00:01\r\u001b[K     |█████████▊                      | 696 kB 12.6 MB/s eta 0:00:01\r\u001b[K     |██████████                      | 706 kB 12.6 MB/s eta 0:00:01\r\u001b[K     |██████████                      | 716 kB 12.6 MB/s eta 0:00:01\r\u001b[K     |██████████▏                     | 727 kB 12.6 MB/s eta 0:00:01\r\u001b[K     |██████████▍                     | 737 kB 12.6 MB/s eta 0:00:01\r\u001b[K     |██████████▌                     | 747 kB 12.6 MB/s eta 0:00:01\r\u001b[K     |██████████▋                     | 757 kB 12.6 MB/s eta 0:00:01\r\u001b[K     |██████████▉                     | 768 kB 12.6 MB/s eta 0:00:01\r\u001b[K     |███████████                     | 778 kB 12.6 MB/s eta 0:00:01\r\u001b[K     |███████████                     | 788 kB 12.6 MB/s eta 0:00:01\r\u001b[K     |███████████▏                    | 798 kB 12.6 MB/s eta 0:00:01\r\u001b[K     |███████████▍                    | 808 kB 12.6 MB/s eta 0:00:01\r\u001b[K     |███████████▌                    | 819 kB 12.6 MB/s eta 0:00:01\r\u001b[K     |███████████▋                    | 829 kB 12.6 MB/s eta 0:00:01\r\u001b[K     |███████████▉                    | 839 kB 12.6 MB/s eta 0:00:01\r\u001b[K     |████████████                    | 849 kB 12.6 MB/s eta 0:00:01\r\u001b[K     |████████████                    | 860 kB 12.6 MB/s eta 0:00:01\r\u001b[K     |████████████▏                   | 870 kB 12.6 MB/s eta 0:00:01\r\u001b[K     |████████████▍                   | 880 kB 12.6 MB/s eta 0:00:01\r\u001b[K     |████████████▌                   | 890 kB 12.6 MB/s eta 0:00:01\r\u001b[K     |████████████▋                   | 901 kB 12.6 MB/s eta 0:00:01\r\u001b[K     |████████████▉                   | 911 kB 12.6 MB/s eta 0:00:01\r\u001b[K     |█████████████                   | 921 kB 12.6 MB/s eta 0:00:01\r\u001b[K     |█████████████                   | 931 kB 12.6 MB/s eta 0:00:01\r\u001b[K     |█████████████▎                  | 942 kB 12.6 MB/s eta 0:00:01\r\u001b[K     |█████████████▍                  | 952 kB 12.6 MB/s eta 0:00:01\r\u001b[K     |█████████████▌                  | 962 kB 12.6 MB/s eta 0:00:01\r\u001b[K     |█████████████▋                  | 972 kB 12.6 MB/s eta 0:00:01\r\u001b[K     |█████████████▉                  | 983 kB 12.6 MB/s eta 0:00:01\r\u001b[K     |██████████████                  | 993 kB 12.6 MB/s eta 0:00:01\r\u001b[K     |██████████████                  | 1.0 MB 12.6 MB/s eta 0:00:01\r\u001b[K     |██████████████▎                 | 1.0 MB 12.6 MB/s eta 0:00:01\r\u001b[K     |██████████████▍                 | 1.0 MB 12.6 MB/s eta 0:00:01\r\u001b[K     |██████████████▌                 | 1.0 MB 12.6 MB/s eta 0:00:01\r\u001b[K     |██████████████▋                 | 1.0 MB 12.6 MB/s eta 0:00:01\r\u001b[K     |██████████████▉                 | 1.1 MB 12.6 MB/s eta 0:00:01\r\u001b[K     |███████████████                 | 1.1 MB 12.6 MB/s eta 0:00:01\r\u001b[K     |███████████████                 | 1.1 MB 12.6 MB/s eta 0:00:01\r\u001b[K     |███████████████▎                | 1.1 MB 12.6 MB/s eta 0:00:01\r\u001b[K     |███████████████▍                | 1.1 MB 12.6 MB/s eta 0:00:01\r\u001b[K     |███████████████▌                | 1.1 MB 12.6 MB/s eta 0:00:01\r\u001b[K     |███████████████▊                | 1.1 MB 12.6 MB/s eta 0:00:01\r\u001b[K     |███████████████▉                | 1.1 MB 12.6 MB/s eta 0:00:01\r\u001b[K     |████████████████                | 1.1 MB 12.6 MB/s eta 0:00:01\r\u001b[K     |████████████████                | 1.1 MB 12.6 MB/s eta 0:00:01\r\u001b[K     |████████████████▎               | 1.2 MB 12.6 MB/s eta 0:00:01\r\u001b[K     |████████████████▍               | 1.2 MB 12.6 MB/s eta 0:00:01\r\u001b[K     |████████████████▌               | 1.2 MB 12.6 MB/s eta 0:00:01\r\u001b[K     |████████████████▊               | 1.2 MB 12.6 MB/s eta 0:00:01\r\u001b[K     |████████████████▉               | 1.2 MB 12.6 MB/s eta 0:00:01\r\u001b[K     |█████████████████               | 1.2 MB 12.6 MB/s eta 0:00:01\r\u001b[K     |█████████████████               | 1.2 MB 12.6 MB/s eta 0:00:01\r\u001b[K     |█████████████████▎              | 1.2 MB 12.6 MB/s eta 0:00:01\r\u001b[K     |█████████████████▍              | 1.2 MB 12.6 MB/s eta 0:00:01\r\u001b[K     |█████████████████▌              | 1.2 MB 12.6 MB/s eta 0:00:01\r\u001b[K     |█████████████████▊              | 1.3 MB 12.6 MB/s eta 0:00:01\r\u001b[K     |█████████████████▉              | 1.3 MB 12.6 MB/s eta 0:00:01\r\u001b[K     |██████████████████              | 1.3 MB 12.6 MB/s eta 0:00:01\r\u001b[K     |██████████████████▏             | 1.3 MB 12.6 MB/s eta 0:00:01\r\u001b[K     |██████████████████▎             | 1.3 MB 12.6 MB/s eta 0:00:01\r\u001b[K     |██████████████████▍             | 1.3 MB 12.6 MB/s eta 0:00:01\r\u001b[K     |██████████████████▌             | 1.3 MB 12.6 MB/s eta 0:00:01\r\u001b[K     |██████████████████▊             | 1.3 MB 12.6 MB/s eta 0:00:01\r\u001b[K     |██████████████████▉             | 1.3 MB 12.6 MB/s eta 0:00:01\r\u001b[K     |███████████████████             | 1.4 MB 12.6 MB/s eta 0:00:01\r\u001b[K     |███████████████████▏            | 1.4 MB 12.6 MB/s eta 0:00:01\r\u001b[K     |███████████████████▎            | 1.4 MB 12.6 MB/s eta 0:00:01\r\u001b[K     |███████████████████▍            | 1.4 MB 12.6 MB/s eta 0:00:01\r\u001b[K     |███████████████████▌            | 1.4 MB 12.6 MB/s eta 0:00:01\r\u001b[K     |███████████████████▊            | 1.4 MB 12.6 MB/s eta 0:00:01\r\u001b[K     |███████████████████▉            | 1.4 MB 12.6 MB/s eta 0:00:01\r\u001b[K     |████████████████████            | 1.4 MB 12.6 MB/s eta 0:00:01\r\u001b[K     |████████████████████▏           | 1.4 MB 12.6 MB/s eta 0:00:01\r\u001b[K     |████████████████████▎           | 1.4 MB 12.6 MB/s eta 0:00:01\r\u001b[K     |████████████████████▍           | 1.5 MB 12.6 MB/s eta 0:00:01\r\u001b[K     |████████████████████▋           | 1.5 MB 12.6 MB/s eta 0:00:01\r\u001b[K     |████████████████████▊           | 1.5 MB 12.6 MB/s eta 0:00:01\r\u001b[K     |████████████████████▉           | 1.5 MB 12.6 MB/s eta 0:00:01\r\u001b[K     |█████████████████████           | 1.5 MB 12.6 MB/s eta 0:00:01\r\u001b[K     |█████████████████████▏          | 1.5 MB 12.6 MB/s eta 0:00:01\r\u001b[K     |█████████████████████▎          | 1.5 MB 12.6 MB/s eta 0:00:01\r\u001b[K     |█████████████████████▍          | 1.5 MB 12.6 MB/s eta 0:00:01\r\u001b[K     |█████████████████████▋          | 1.5 MB 12.6 MB/s eta 0:00:01\r\u001b[K     |█████████████████████▊          | 1.5 MB 12.6 MB/s eta 0:00:01\r\u001b[K     |█████████████████████▉          | 1.6 MB 12.6 MB/s eta 0:00:01\r\u001b[K     |██████████████████████          | 1.6 MB 12.6 MB/s eta 0:00:01\r\u001b[K     |██████████████████████▏         | 1.6 MB 12.6 MB/s eta 0:00:01\r\u001b[K     |██████████████████████▎         | 1.6 MB 12.6 MB/s eta 0:00:01\r\u001b[K     |██████████████████████▍         | 1.6 MB 12.6 MB/s eta 0:00:01\r\u001b[K     |██████████████████████▋         | 1.6 MB 12.6 MB/s eta 0:00:01\r\u001b[K     |██████████████████████▊         | 1.6 MB 12.6 MB/s eta 0:00:01\r\u001b[K     |██████████████████████▉         | 1.6 MB 12.6 MB/s eta 0:00:01\r\u001b[K     |███████████████████████         | 1.6 MB 12.6 MB/s eta 0:00:01\r\u001b[K     |███████████████████████▏        | 1.6 MB 12.6 MB/s eta 0:00:01\r\u001b[K     |███████████████████████▎        | 1.7 MB 12.6 MB/s eta 0:00:01\r\u001b[K     |███████████████████████▍        | 1.7 MB 12.6 MB/s eta 0:00:01\r\u001b[K     |███████████████████████▋        | 1.7 MB 12.6 MB/s eta 0:00:01\r\u001b[K     |███████████████████████▊        | 1.7 MB 12.6 MB/s eta 0:00:01\r\u001b[K     |███████████████████████▉        | 1.7 MB 12.6 MB/s eta 0:00:01\r\u001b[K     |████████████████████████        | 1.7 MB 12.6 MB/s eta 0:00:01\r\u001b[K     |████████████████████████▏       | 1.7 MB 12.6 MB/s eta 0:00:01\r\u001b[K     |████████████████████████▎       | 1.7 MB 12.6 MB/s eta 0:00:01\r\u001b[K     |████████████████████████▍       | 1.7 MB 12.6 MB/s eta 0:00:01\r\u001b[K     |████████████████████████▋       | 1.8 MB 12.6 MB/s eta 0:00:01\r\u001b[K     |████████████████████████▊       | 1.8 MB 12.6 MB/s eta 0:00:01\r\u001b[K     |████████████████████████▉       | 1.8 MB 12.6 MB/s eta 0:00:01\r\u001b[K     |█████████████████████████       | 1.8 MB 12.6 MB/s eta 0:00:01\r\u001b[K     |█████████████████████████▏      | 1.8 MB 12.6 MB/s eta 0:00:01\r\u001b[K     |█████████████████████████▎      | 1.8 MB 12.6 MB/s eta 0:00:01\r\u001b[K     |█████████████████████████▌      | 1.8 MB 12.6 MB/s eta 0:00:01\r\u001b[K     |█████████████████████████▋      | 1.8 MB 12.6 MB/s eta 0:00:01\r\u001b[K     |█████████████████████████▊      | 1.8 MB 12.6 MB/s eta 0:00:01\r\u001b[K     |█████████████████████████▉      | 1.8 MB 12.6 MB/s eta 0:00:01\r\u001b[K     |██████████████████████████      | 1.9 MB 12.6 MB/s eta 0:00:01\r\u001b[K     |██████████████████████████▏     | 1.9 MB 12.6 MB/s eta 0:00:01\r\u001b[K     |██████████████████████████▎     | 1.9 MB 12.6 MB/s eta 0:00:01\r\u001b[K     |██████████████████████████▌     | 1.9 MB 12.6 MB/s eta 0:00:01\r\u001b[K     |██████████████████████████▋     | 1.9 MB 12.6 MB/s eta 0:00:01\r\u001b[K     |██████████████████████████▊     | 1.9 MB 12.6 MB/s eta 0:00:01\r\u001b[K     |██████████████████████████▉     | 1.9 MB 12.6 MB/s eta 0:00:01\r\u001b[K     |███████████████████████████     | 1.9 MB 12.6 MB/s eta 0:00:01\r\u001b[K     |███████████████████████████▏    | 1.9 MB 12.6 MB/s eta 0:00:01\r\u001b[K     |███████████████████████████▎    | 1.9 MB 12.6 MB/s eta 0:00:01\r\u001b[K     |███████████████████████████▌    | 2.0 MB 12.6 MB/s eta 0:00:01\r\u001b[K     |███████████████████████████▋    | 2.0 MB 12.6 MB/s eta 0:00:01\r\u001b[K     |███████████████████████████▊    | 2.0 MB 12.6 MB/s eta 0:00:01\r\u001b[K     |████████████████████████████    | 2.0 MB 12.6 MB/s eta 0:00:01\r\u001b[K     |████████████████████████████    | 2.0 MB 12.6 MB/s eta 0:00:01\r\u001b[K     |████████████████████████████▏   | 2.0 MB 12.6 MB/s eta 0:00:01\r\u001b[K     |████████████████████████████▎   | 2.0 MB 12.6 MB/s eta 0:00:01\r\u001b[K     |████████████████████████████▌   | 2.0 MB 12.6 MB/s eta 0:00:01\r\u001b[K     |████████████████████████████▋   | 2.0 MB 12.6 MB/s eta 0:00:01\r\u001b[K     |████████████████████████████▊   | 2.0 MB 12.6 MB/s eta 0:00:01\r\u001b[K     |█████████████████████████████   | 2.1 MB 12.6 MB/s eta 0:00:01\r\u001b[K     |█████████████████████████████   | 2.1 MB 12.6 MB/s eta 0:00:01\r\u001b[K     |█████████████████████████████▏  | 2.1 MB 12.6 MB/s eta 0:00:01\r\u001b[K     |█████████████████████████████▎  | 2.1 MB 12.6 MB/s eta 0:00:01\r\u001b[K     |█████████████████████████████▌  | 2.1 MB 12.6 MB/s eta 0:00:01\r\u001b[K     |█████████████████████████████▋  | 2.1 MB 12.6 MB/s eta 0:00:01\r\u001b[K     |█████████████████████████████▊  | 2.1 MB 12.6 MB/s eta 0:00:01\r\u001b[K     |██████████████████████████████  | 2.1 MB 12.6 MB/s eta 0:00:01\r\u001b[K     |██████████████████████████████  | 2.1 MB 12.6 MB/s eta 0:00:01\r\u001b[K     |██████████████████████████████▏ | 2.2 MB 12.6 MB/s eta 0:00:01\r\u001b[K     |██████████████████████████████▍ | 2.2 MB 12.6 MB/s eta 0:00:01\r\u001b[K     |██████████████████████████████▌ | 2.2 MB 12.6 MB/s eta 0:00:01\r\u001b[K     |██████████████████████████████▋ | 2.2 MB 12.6 MB/s eta 0:00:01\r\u001b[K     |██████████████████████████████▊ | 2.2 MB 12.6 MB/s eta 0:00:01\r\u001b[K     |███████████████████████████████ | 2.2 MB 12.6 MB/s eta 0:00:01\r\u001b[K     |███████████████████████████████ | 2.2 MB 12.6 MB/s eta 0:00:01\r\u001b[K     |███████████████████████████████▏| 2.2 MB 12.6 MB/s eta 0:00:01\r\u001b[K     |███████████████████████████████▍| 2.2 MB 12.6 MB/s eta 0:00:01\r\u001b[K     |███████████████████████████████▌| 2.2 MB 12.6 MB/s eta 0:00:01\r\u001b[K     |███████████████████████████████▋| 2.3 MB 12.6 MB/s eta 0:00:01\r\u001b[K     |███████████████████████████████▊| 2.3 MB 12.6 MB/s eta 0:00:01\r\u001b[K     |████████████████████████████████| 2.3 MB 12.6 MB/s eta 0:00:01\r\u001b[K     |████████████████████████████████| 2.3 MB 12.6 MB/s \n",
            "\u001b[?25hRequirement already satisfied: numpy in /usr/local/lib/python3.7/dist-packages (from biopython) (1.19.5)\n",
            "Installing collected packages: biopython\n",
            "Successfully installed biopython-1.79\n"
          ]
        }
      ]
    },
    {
      "cell_type": "code",
      "metadata": {
        "id": "e0220912"
      },
      "source": [
        "# import module to be used\n",
        "from Bio import SeqIO"
      ],
      "id": "e0220912",
      "execution_count": 2,
      "outputs": []
    },
    {
      "cell_type": "code",
      "metadata": {
        "colab": {
          "base_uri": "https://localhost:8080/"
        },
        "id": "xx15og4GzmP_",
        "outputId": "95f32d57-a892-4c22-c53f-df1b98281fc4"
      },
      "source": [
        "!wget https://raw.githubusercontent.com/computational-chemical-biology/hiv-1gp160/master/sequence.fasta"
      ],
      "id": "xx15og4GzmP_",
      "execution_count": 4,
      "outputs": [
        {
          "output_type": "stream",
          "name": "stdout",
          "text": [
            "--2021-11-16 17:32:17--  https://raw.githubusercontent.com/computational-chemical-biology/hiv-1gp160/master/sequence.fasta\n",
            "Resolving raw.githubusercontent.com (raw.githubusercontent.com)... 185.199.108.133, 185.199.109.133, 185.199.110.133, ...\n",
            "Connecting to raw.githubusercontent.com (raw.githubusercontent.com)|185.199.108.133|:443... connected.\n",
            "HTTP request sent, awaiting response... 200 OK\n",
            "Length: 3203 (3.1K) [text/plain]\n",
            "Saving to: ‘sequence.fasta’\n",
            "\n",
            "sequence.fasta      100%[===================>]   3.13K  --.-KB/s    in 0s      \n",
            "\n",
            "2021-11-16 17:32:17 (65.2 MB/s) - ‘sequence.fasta’ saved [3203/3203]\n",
            "\n"
          ]
        }
      ]
    },
    {
      "cell_type": "code",
      "metadata": {
        "colab": {
          "base_uri": "https://localhost:8080/"
        },
        "id": "73e73e04",
        "outputId": "ce8d9a8e-bda5-400c-99ab-c0f4a6d1293b"
      },
      "source": [
        "records = []\n",
        "for record in SeqIO.parse(\"sequence.fasta\", \"fasta\"):\n",
        "    print(record.id)\n",
        "    #print(record.name)\n",
        "    print(record.description)\n",
        "    records.append(record)"
      ],
      "id": "73e73e04",
      "execution_count": 5,
      "outputs": [
        {
          "output_type": "stream",
          "name": "stdout",
          "text": [
            "HE583229.1\n",
            "HE583229.1\n",
            "HE583264.1\n",
            "HE583264.1\n",
            "HE583260.1\n",
            "HE583260.1\n",
            "HE583255.1\n",
            "HE583255.1\n",
            "HE583251.1\n",
            "HE583251.1\n",
            "HE583249.1\n",
            "HE583249.1\n",
            "HE583245.1\n",
            "HE583245.1\n"
          ]
        }
      ]
    },
    {
      "cell_type": "code",
      "metadata": {
        "colab": {
          "base_uri": "https://localhost:8080/",
          "height": 35
        },
        "id": "5c3df20f",
        "outputId": "f51e96c6-d2c8-4e24-cb3b-2e937762f6e5"
      },
      "source": [
        "# one can also obtain sequences from NCBI\n",
        "from Bio import Entrez\n",
        "\n",
        "records[0].id"
      ],
      "id": "5c3df20f",
      "execution_count": 6,
      "outputs": [
        {
          "output_type": "execute_result",
          "data": {
            "application/vnd.google.colaboratory.intrinsic+json": {
              "type": "string"
            },
            "text/plain": [
              "'HE583229.1'"
            ]
          },
          "metadata": {},
          "execution_count": 6
        }
      ]
    },
    {
      "cell_type": "code",
      "metadata": {
        "colab": {
          "base_uri": "https://localhost:8080/"
        },
        "id": "8c28d9a2",
        "outputId": "e3b58f8f-230d-46c6-a22a-ac6e89137a97"
      },
      "source": [
        "handle = Entrez.efetch(db=\"nucleotide\", id=records[0].id, retmode=\"xml\")\n",
        "seq = Entrez.read(handle)\n",
        "seq"
      ],
      "id": "8c28d9a2",
      "execution_count": 7,
      "outputs": [
        {
          "output_type": "stream",
          "name": "stderr",
          "text": [
            "/usr/local/lib/python3.7/dist-packages/Bio/Entrez/__init__.py:670: UserWarning: \n",
            "Email address is not specified.\n",
            "\n",
            "To make use of NCBI's E-utilities, NCBI requires you to specify your\n",
            "email address with each request.  As an example, if your email address\n",
            "is A.N.Other@example.com, you can specify it as follows:\n",
            "   from Bio import Entrez\n",
            "   Entrez.email = 'A.N.Other@example.com'\n",
            "In case of excessive usage of the E-utilities, NCBI will attempt to contact\n",
            "a user at the email address provided before blocking access to the\n",
            "E-utilities.\n",
            "  UserWarning,\n"
          ]
        },
        {
          "output_type": "execute_result",
          "data": {
            "text/plain": [
              "[{'GBSeq_locus': 'HE583229', 'GBSeq_length': '329', 'GBSeq_strandedness': 'double', 'GBSeq_moltype': 'DNA', 'GBSeq_topology': 'linear', 'GBSeq_division': 'VRL', 'GBSeq_update-date': '28-JAN-2013', 'GBSeq_create-date': '27-SEP-2012', 'GBSeq_definition': 'HIV-1 M:G_PT5236 vpu gene (partial) and gp160 gene (partial)', 'GBSeq_primary-accession': 'HE583229', 'GBSeq_accession-version': 'HE583229.1', 'GBSeq_other-seqids': ['emb|HE583229.1|', 'gi|407227845'], 'GBSeq_source': 'HIV-1 M:G_PT5236', 'GBSeq_organism': 'HIV-1 M:G_PT5236', 'GBSeq_taxonomy': 'Viruses; Riboviria; Pararnavirae; Artverviricota; Revtraviricetes; Ortervirales; Retroviridae; Orthoretrovirinae; Lentivirus', 'GBSeq_references': [{'GBReference_reference': '1', 'GBReference_position': '1..329', 'GBReference_authors': ['Freitas,F.B.', 'Esteves,A.', 'Piedade,J.', 'Parreira,R.'], 'GBReference_title': 'Novel multiregion hybridization assay for the identification of the most prevalent genetic forms of the human immunodeficiency virus type 1 circulating in portugal', 'GBReference_journal': 'AIDS Res. Hum. Retroviruses 29 (2), 318-328 (2013)', 'GBReference_xref': [{'GBXref_dbname': 'doi', 'GBXref_id': '10.1089/AID.2012.0025'}], 'GBReference_pubmed': '22935093'}, {'GBReference_reference': '2', 'GBReference_position': '1..329', 'GBReference_authors': ['Freitas,F.B.'], 'GBReference_title': 'Direct Submission', 'GBReference_journal': 'Submitted (17-AUG-2011) Freitas F.B., Medicina Tropical, Parasitology/virology, Instituto Instituto de Higiene e, Rua da Junqueira N100, 1349-008 Lisboa, PORTUGAL'}], 'GBSeq_feature-table': [{'GBFeature_key': 'source', 'GBFeature_location': '1..329', 'GBFeature_intervals': [{'GBInterval_from': '1', 'GBInterval_to': '329', 'GBInterval_accession': 'HE583229.1'}], 'GBFeature_quals': [{'GBQualifier_name': 'organism', 'GBQualifier_value': 'HIV-1 M:G_PT5236'}, {'GBQualifier_name': 'mol_type', 'GBQualifier_value': 'genomic DNA'}, {'GBQualifier_name': 'host', 'GBQualifier_value': 'HIV-1 seropositive Homo sapiens'}, {'GBQualifier_name': 'db_xref', 'GBQualifier_value': 'taxon:1070830'}, {'GBQualifier_name': 'tissue_type', 'GBQualifier_value': 'host blood plasma'}, {'GBQualifier_name': 'country', 'GBQualifier_value': 'Portugal'}, {'GBQualifier_name': 'note', 'GBQualifier_value': 'group:M; subgroup:G'}]}, {'GBFeature_key': 'gene', 'GBFeature_location': '<1..119', 'GBFeature_intervals': [{'GBInterval_from': '1', 'GBInterval_to': '119', 'GBInterval_accession': 'HE583229.1'}], 'GBFeature_partial5': StringElement('', attributes={'value': 'true'}), 'GBFeature_quals': [{'GBQualifier_name': 'gene', 'GBQualifier_value': 'vpu'}]}, {'GBFeature_key': 'CDS', 'GBFeature_location': '<1..119', 'GBFeature_intervals': [{'GBInterval_from': '1', 'GBInterval_to': '119', 'GBInterval_accession': 'HE583229.1'}], 'GBFeature_partial5': StringElement('', attributes={'value': 'true'}), 'GBFeature_quals': [{'GBQualifier_name': 'gene', 'GBQualifier_value': 'vpu'}, {'GBQualifier_name': 'codon_start', 'GBQualifier_value': '3'}, {'GBQualifier_name': 'transl_table', 'GBQualifier_value': '1'}, {'GBQualifier_name': 'product', 'GBQualifier_value': 'Vpu'}, {'GBQualifier_name': 'protein_id', 'GBQualifier_value': 'CCD30369.1'}, {'GBQualifier_name': 'db_xref', 'GBQualifier_value': 'UniProtKB/TrEMBL:K0JAR5'}, {'GBQualifier_name': 'translation', 'GBQualifier_value': 'DGTRERAQDSGNESEGDTEELATLVEMGDFDPWVGDNL'}]}, {'GBFeature_key': 'gene', 'GBFeature_location': '37..>329', 'GBFeature_intervals': [{'GBInterval_from': '37', 'GBInterval_to': '329', 'GBInterval_accession': 'HE583229.1'}], 'GBFeature_partial3': StringElement('', attributes={'value': 'true'}), 'GBFeature_quals': [{'GBQualifier_name': 'gene', 'GBQualifier_value': 'gp160'}]}, {'GBFeature_key': 'CDS', 'GBFeature_location': '37..>329', 'GBFeature_intervals': [{'GBInterval_from': '37', 'GBInterval_to': '329', 'GBInterval_accession': 'HE583229.1'}], 'GBFeature_partial3': StringElement('', attributes={'value': 'true'}), 'GBFeature_quals': [{'GBQualifier_name': 'gene', 'GBQualifier_value': 'gp160'}, {'GBQualifier_name': 'codon_start', 'GBQualifier_value': '1'}, {'GBQualifier_name': 'transl_table', 'GBQualifier_value': '1'}, {'GBQualifier_name': 'product', 'GBQualifier_value': 'gp160'}, {'GBQualifier_name': 'protein_id', 'GBQualifier_value': 'CCD30370.1'}, {'GBQualifier_name': 'db_xref', 'GBQualifier_value': 'UniProtKB/TrEMBL:K0JB07'}, {'GBQualifier_name': 'translation', 'GBQualifier_value': 'MKARGTRRNWQPLWKWGTLILGLVIICSASNNLWVTVYYGVPVWEDADTTLFCASDAKAYSTESHNIWATHACVPTDPNPQEISLDNVTENFNMWKK'}]}, {'GBFeature_key': 'mat_peptide', 'GBFeature_location': '37..>329', 'GBFeature_intervals': [{'GBInterval_from': '37', 'GBInterval_to': '329', 'GBInterval_accession': 'HE583229.1'}], 'GBFeature_partial3': StringElement('', attributes={'value': 'true'}), 'GBFeature_quals': [{'GBQualifier_name': 'gene', 'GBQualifier_value': 'gp160'}, {'GBQualifier_name': 'product', 'GBQualifier_value': 'gp120'}, {'GBQualifier_name': 'peptide', 'GBQualifier_value': 'MKARGTRRNWQPLWKWGTLILGLVIICSASNNLWVTVYYGVPVWEDADTTLFCASDAKAYSTESHNIWATHACVPTDPNPQEISLDNVTENFNMWKK'}]}], 'GBSeq_sequence': 'ttgatggaacaagagaaagagcacaagacagtggaaatgaaagcgagggggacacggaggaattggcaacccttgtggaaatgggggactttgatccttgggttggtgataatttgtagtgcctcaaataacttgtgggtcacagtctattatggggtacctgtgtgggaggatgcagataccactctattttgtgcatctgatgctaaagcatatagtactgaaagccataatatctgggctacacatgcctgtgtacccacagaccccaacccacaagagatatctctggataatgtaacagaaaattttaacatgtggaaaaaata'}]"
            ]
          },
          "metadata": {},
          "execution_count": 7
        }
      ]
    },
    {
      "cell_type": "code",
      "metadata": {
        "colab": {
          "base_uri": "https://localhost:8080/"
        },
        "id": "25dee17d",
        "outputId": "332749b1-32a6-49b7-f850-e8b60d14b4b9"
      },
      "source": [
        "type(seq[0])"
      ],
      "id": "25dee17d",
      "execution_count": 8,
      "outputs": [
        {
          "output_type": "execute_result",
          "data": {
            "text/plain": [
              "Bio.Entrez.Parser.DictionaryElement"
            ]
          },
          "metadata": {},
          "execution_count": 8
        }
      ]
    },
    {
      "cell_type": "code",
      "metadata": {
        "colab": {
          "base_uri": "https://localhost:8080/"
        },
        "id": "94d0e470",
        "outputId": "6c1aaf32-3897-4a65-cddf-3227898fe03d"
      },
      "source": [
        "seq[0].keys()"
      ],
      "id": "94d0e470",
      "execution_count": 9,
      "outputs": [
        {
          "output_type": "execute_result",
          "data": {
            "text/plain": [
              "dict_keys(['GBSeq_locus', 'GBSeq_length', 'GBSeq_strandedness', 'GBSeq_moltype', 'GBSeq_topology', 'GBSeq_division', 'GBSeq_update-date', 'GBSeq_create-date', 'GBSeq_definition', 'GBSeq_primary-accession', 'GBSeq_accession-version', 'GBSeq_other-seqids', 'GBSeq_source', 'GBSeq_organism', 'GBSeq_taxonomy', 'GBSeq_references', 'GBSeq_feature-table', 'GBSeq_sequence'])"
            ]
          },
          "metadata": {},
          "execution_count": 9
        }
      ]
    },
    {
      "cell_type": "code",
      "metadata": {
        "colab": {
          "base_uri": "https://localhost:8080/",
          "height": 87
        },
        "id": "eee8e5b7",
        "outputId": "ac97c9a8-a33e-49c9-d39b-f3985641b094"
      },
      "source": [
        "seq[0]['GBSeq_sequence']"
      ],
      "id": "eee8e5b7",
      "execution_count": 10,
      "outputs": [
        {
          "output_type": "execute_result",
          "data": {
            "application/vnd.google.colaboratory.intrinsic+json": {
              "type": "string"
            },
            "text/plain": [
              "'ttgatggaacaagagaaagagcacaagacagtggaaatgaaagcgagggggacacggaggaattggcaacccttgtggaaatgggggactttgatccttgggttggtgataatttgtagtgcctcaaataacttgtgggtcacagtctattatggggtacctgtgtgggaggatgcagataccactctattttgtgcatctgatgctaaagcatatagtactgaaagccataatatctgggctacacatgcctgtgtacccacagaccccaacccacaagagatatctctggataatgtaacagaaaattttaacatgtggaaaaaata'"
            ]
          },
          "metadata": {},
          "execution_count": 10
        }
      ]
    },
    {
      "cell_type": "code",
      "metadata": {
        "colab": {
          "base_uri": "https://localhost:8080/"
        },
        "id": "310fb304",
        "outputId": "dc5fe415-556e-48f5-9d9a-4429ed049a8c"
      },
      "source": [
        "from Bio.Seq import Seq\n",
        "\n",
        "my_seq = Seq(seq[0]['GBSeq_sequence'])\n",
        "my_seq.transcribe()"
      ],
      "id": "310fb304",
      "execution_count": 11,
      "outputs": [
        {
          "output_type": "execute_result",
          "data": {
            "text/plain": [
              "Seq('uugauggaacaagagaaagagcacaagacaguggaaaugaaagcgagggggaca...aua')"
            ]
          },
          "metadata": {},
          "execution_count": 11
        }
      ]
    },
    {
      "cell_type": "code",
      "metadata": {
        "colab": {
          "base_uri": "https://localhost:8080/"
        },
        "id": "f74a8a62",
        "outputId": "b86225bf-afac-4911-e7f5-9cd6c54d5090"
      },
      "source": [
        "print(my_seq.transcribe())"
      ],
      "id": "f74a8a62",
      "execution_count": 12,
      "outputs": [
        {
          "output_type": "stream",
          "name": "stdout",
          "text": [
            "uugauggaacaagagaaagagcacaagacaguggaaaugaaagcgagggggacacggaggaauuggcaacccuuguggaaaugggggacuuugauccuuggguuggugauaauuuguagugccucaaauaacuugugggucacagucuauuaugggguaccugugugggaggaugcagauaccacucuauuuugugcaucugaugcuaaagcauauaguacugaaagccauaauaucugggcuacacaugccuguguacccacagaccccaacccacaagagauaucucuggauaauguaacagaaaauuuuaacauguggaaaaaaua\n"
          ]
        }
      ]
    },
    {
      "cell_type": "code",
      "metadata": {
        "colab": {
          "base_uri": "https://localhost:8080/"
        },
        "id": "gfv6k1WTzv_d",
        "outputId": "62a92d6a-54c4-426d-dbe0-2663ca867076"
      },
      "source": [
        "!wget https://mafft.cbrc.jp/alignment/software/mafft_7.490-1_amd64.deb"
      ],
      "id": "gfv6k1WTzv_d",
      "execution_count": 13,
      "outputs": [
        {
          "output_type": "stream",
          "name": "stdout",
          "text": [
            "--2021-11-16 17:33:40--  https://mafft.cbrc.jp/alignment/software/mafft_7.490-1_amd64.deb\n",
            "Resolving mafft.cbrc.jp (mafft.cbrc.jp)... 133.1.49.95\n",
            "Connecting to mafft.cbrc.jp (mafft.cbrc.jp)|133.1.49.95|:443... connected.\n",
            "HTTP request sent, awaiting response... 200 OK\n",
            "Length: 3642654 (3.5M)\n",
            "Saving to: ‘mafft_7.490-1_amd64.deb’\n",
            "\n",
            "mafft_7.490-1_amd64 100%[===================>]   3.47M  1.83MB/s    in 1.9s    \n",
            "\n",
            "2021-11-16 17:33:43 (1.83 MB/s) - ‘mafft_7.490-1_amd64.deb’ saved [3642654/3642654]\n",
            "\n"
          ]
        }
      ]
    },
    {
      "cell_type": "code",
      "metadata": {
        "colab": {
          "base_uri": "https://localhost:8080/"
        },
        "id": "LmKFqvZWz92h",
        "outputId": "964f1019-ec32-4992-d873-79fb0f4d9af8"
      },
      "source": [
        "!dpkg -i mafft_7.490-1_amd64.deb"
      ],
      "id": "LmKFqvZWz92h",
      "execution_count": 14,
      "outputs": [
        {
          "output_type": "stream",
          "name": "stdout",
          "text": [
            "Selecting previously unselected package mafft.\n",
            "(Reading database ... 155219 files and directories currently installed.)\n",
            "Preparing to unpack mafft_7.490-1_amd64.deb ...\n",
            "Unpacking mafft (7.490-1) ...\n",
            "Setting up mafft (7.490-1) ...\n",
            "Processing triggers for man-db (2.8.3-2ubuntu0.1) ...\n"
          ]
        }
      ]
    },
    {
      "cell_type": "code",
      "metadata": {
        "colab": {
          "base_uri": "https://localhost:8080/"
        },
        "id": "0924c6da",
        "outputId": "2d68bbd0-0942-469c-9da9-81b23ae5c1fe"
      },
      "source": [
        "# use a command line tool\n",
        "!mafft sequence.fasta > seq_align.fasta"
      ],
      "id": "0924c6da",
      "execution_count": 15,
      "outputs": [
        {
          "output_type": "stream",
          "name": "stdout",
          "text": [
            "nthread = 0\n",
            "nthreadpair = 0\n",
            "nthreadtb = 0\n",
            "ppenalty_ex = 0\n",
            "stacksize: 8192 kb\n",
            "generating a scoring matrix for nucleotide (dist=200) ... done\n",
            "Gap Penalty = -1.53, +0.00, +0.00\n",
            "\n",
            "\n",
            "\n",
            "Making a distance matrix ..\n",
            "\n",
            "There are 1 ambiguous characters.\n",
            "\r    1 / 7\n",
            "done.\n",
            "\n",
            "Constructing a UPGMA tree (efffree=0) ... \n",
            "\r    0 / 7\n",
            "done.\n",
            "\n",
            "Progressive alignment 1/2... \n",
            "\rSTEP     1 / 6  f\b\b\rSTEP     2 / 6  f\b\b\rSTEP     3 / 6  f\b\b\n",
            "Reallocating..done. *alloclen = 2086\n",
            "\rSTEP     4 / 6  f\b\b\rSTEP     5 / 6  f\b\b\rSTEP     6 / 6  f\b\b\n",
            "done.\n",
            "\n",
            "Making a distance matrix from msa.. \n",
            "\r    0 / 7\n",
            "done.\n",
            "\n",
            "Constructing a UPGMA tree (efffree=1) ... \n",
            "\r    0 / 7\n",
            "done.\n",
            "\n",
            "Progressive alignment 2/2... \n",
            "\rSTEP     1 / 6  f\b\b\rSTEP     2 / 6  f\b\b\rSTEP     3 / 6  f\b\b\rSTEP     4 / 6  f\b\b\n",
            "Reallocating..done. *alloclen = 2092\n",
            "\rSTEP     5 / 6  f\b\b\rSTEP     6 / 6  f\b\b\n",
            "done.\n",
            "\n",
            "disttbfast (nuc) Version 7.490\n",
            "alg=A, model=DNA200 (2), 1.53 (4.59), -0.00 (-0.00), noshift, amax=0.0\n",
            "0 thread(s)\n",
            "\n",
            "\n",
            "Strategy:\n",
            " FFT-NS-2 (Fast but rough)\n",
            " Progressive method (guide trees were built 2 times.)\n",
            "\n",
            "If unsure which option to use, try 'mafft --auto input > output'.\n",
            "For more information, see 'mafft --help', 'mafft --man' and the mafft page.\n",
            "\n",
            "The default gap scoring scheme has been changed in version 7.110 (2013 Oct).\n",
            "It tends to insert more gaps into gap-rich regions than previous versions.\n",
            "To disable this change, add the --leavegappyregion option.\n",
            "\n"
          ]
        }
      ]
    },
    {
      "cell_type": "code",
      "metadata": {
        "colab": {
          "base_uri": "https://localhost:8080/"
        },
        "id": "ac06c5f1",
        "outputId": "48be1be6-46d1-44d8-cced-bffbf857b731"
      },
      "source": [
        "!ls"
      ],
      "id": "ac06c5f1",
      "execution_count": 16,
      "outputs": [
        {
          "output_type": "stream",
          "name": "stdout",
          "text": [
            "mafft_7.490-1_amd64.deb  sample_data  seq_align.fasta  sequence.fasta\n"
          ]
        }
      ]
    },
    {
      "cell_type": "code",
      "metadata": {
        "colab": {
          "base_uri": "https://localhost:8080/"
        },
        "id": "KtKMfPHW0KUR",
        "outputId": "4a5c0a60-f30f-4072-e9f4-fc40e0314156"
      },
      "source": [
        "!apt install iqtree"
      ],
      "id": "KtKMfPHW0KUR",
      "execution_count": 17,
      "outputs": [
        {
          "output_type": "stream",
          "name": "stdout",
          "text": [
            "Reading package lists... Done\n",
            "Building dependency tree       \n",
            "Reading state information... Done\n",
            "The following NEW packages will be installed:\n",
            "  iqtree\n",
            "0 upgraded, 1 newly installed, 0 to remove and 37 not upgraded.\n",
            "Need to get 2,689 kB of archives.\n",
            "After this operation, 16.2 MB of additional disk space will be used.\n",
            "Get:1 http://archive.ubuntu.com/ubuntu bionic/universe amd64 iqtree amd64 1.6.1+dfsg-1 [2,689 kB]\n",
            "Fetched 2,689 kB in 0s (12.4 MB/s)\n",
            "Selecting previously unselected package iqtree.\n",
            "(Reading database ... 155300 files and directories currently installed.)\n",
            "Preparing to unpack .../iqtree_1.6.1+dfsg-1_amd64.deb ...\n",
            "Unpacking iqtree (1.6.1+dfsg-1) ...\n",
            "Setting up iqtree (1.6.1+dfsg-1) ...\n",
            "Processing triggers for man-db (2.8.3-2ubuntu0.1) ...\n"
          ]
        }
      ]
    },
    {
      "cell_type": "code",
      "metadata": {
        "colab": {
          "base_uri": "https://localhost:8080/"
        },
        "id": "3bf2474c",
        "outputId": "f3c8c12d-5ac4-41c5-dbf4-e2185b4f2a2e"
      },
      "source": [
        "!iqtree -s seq_align.fasta"
      ],
      "id": "3bf2474c",
      "execution_count": 18,
      "outputs": [
        {
          "output_type": "stream",
          "name": "stdout",
          "text": [
            "IQ-TREE multicore version 1.6.1 for Linux 64-bit built Feb 16 2018\n",
            "Developed by Bui Quang Minh, Nguyen Lam Tung, Olga Chernomor,\n",
            "Heiko Schmidt, Dominik Schrempf, Michael Woodhams.\n",
            "\n",
            "Host:    2d3432b06d84 (AVX2, FMA3, 12 GB RAM)\n",
            "Command: iqtree -s seq_align.fasta\n",
            "Seed:    305298 (Using SPRNG - Scalable Parallel Random Number Generator)\n",
            "Time:    Tue Nov 16 17:37:13 2021\n",
            "Kernel:  AVX+FMA - 1 threads (2 CPU cores detected)\n",
            "\n",
            "HINT: Use -nt option to specify number of threads because your CPU has 2 cores!\n",
            "HINT: -nt AUTO will automatically determine the best number of threads to use.\n",
            "\n",
            "Reading alignment file seq_align.fasta ... Fasta format detected\n",
            "Alignment most likely contains DNA/RNA sequences\n",
            "Alignment has 7 sequences with 563 columns, 177 distinct patterns\n",
            "76 parsimony-informative, 100 singleton sites, 387 constant sites\n",
            "            Gap/Ambiguity  Composition  p-value\n",
            "   1  HE583229.1   41.56%    passed     57.80%\n",
            "   2  HE583264.1    7.64%    passed     88.11%\n",
            "   3  HE583260.1   51.69%    passed     29.70%\n",
            "   4  HE583255.1    6.04%    passed     83.50%\n",
            "   5  HE583251.1    3.91%    passed     84.56%\n",
            "   6  HE583249.1   26.47%    passed     93.58%\n",
            "   7  HE583245.1   18.47%    passed     97.33%\n",
            "WARNING: 1 sequences contain more than 50% gaps/ambiguity\n",
            "****  TOTAL        22.25%  0 sequences failed composition chi2 test (p-value<5%; df=3)\n",
            "\n",
            "\n",
            "Create initial parsimony tree by phylogenetic likelihood library (PLL)... 0.000 seconds\n",
            "NOTE: ModelFinder requires 0 MB RAM!\n",
            "ModelFinder will test 286 DNA models (sample size: 563) ...\n",
            " No. Model         -LnL         df  AIC          AICc         BIC\n",
            "  1  JC            1808.778     11  3639.556     3640.035     3687.222\n",
            "  2  JC+I          1803.553     12  3631.106     3631.673     3683.105\n",
            "  3  JC+G4         1803.427     12  3630.855     3631.422     3682.854\n",
            "  4  JC+I+G4       1803.534     13  3633.069     3633.732     3689.402\n",
            "  5  JC+R2         1803.491     13  3632.982     3633.645     3689.314\n",
            "  6  JC+R3         1803.419     15  3636.838     3637.715     3701.837\n",
            " 14  F81+F         1782.866     14  3593.731     3594.498     3654.397\n",
            " 15  F81+F+I       1777.386     15  3584.773     3585.650     3649.772\n",
            " 16  F81+F+G4      1777.190     15  3584.380     3585.257     3649.379\n",
            " 17  F81+F+I+G4    1777.338     16  3586.675     3587.671     3656.008\n",
            " 18  F81+F+R2      1777.282     16  3586.564     3587.561     3655.897\n",
            " 19  F81+F+R3      1777.198     18  3590.396     3591.653     3668.395\n",
            " 27  K2P           1793.229     12  3610.459     3611.026     3662.458\n",
            " 28  K2P+I         1787.117     13  3600.233     3600.896     3656.566\n",
            " 29  K2P+G4        1787.024     13  3600.049     3600.712     3656.381\n",
            " 30  K2P+I+G4      1787.062     14  3602.125     3602.891     3662.791\n",
            " 31  K2P+R2        1787.077     14  3602.154     3602.921     3662.820\n",
            " 32  K2P+R3        1787.017     16  3606.034     3607.031     3675.367\n",
            " 40  HKY+F         1769.178     15  3568.356     3569.234     3633.355\n",
            " 41  HKY+F+I       1762.588     16  3557.176     3558.172     3626.508\n",
            " 42  HKY+F+G4      1762.377     16  3556.754     3557.750     3626.087\n",
            " 43  HKY+F+I+G4    1762.481     17  3558.962     3560.085     3632.628\n",
            " 44  HKY+F+R2      1762.474     17  3558.947     3560.070     3632.613\n",
            " 45  HKY+F+R3      1762.383     19  3562.766     3564.166     3645.099\n",
            " 53  TNe           1793.166     13  3612.333     3612.996     3668.665\n",
            " 54  TNe+I         1786.939     14  3601.877     3602.643     3662.543\n",
            " 55  TNe+G4        1786.811     14  3601.622     3602.389     3662.288\n",
            " 56  TNe+I+G4      1786.871     15  3603.742     3604.620     3668.741\n",
            " 57  TNe+R2        1786.826     15  3603.651     3604.529     3668.651\n",
            " 58  TNe+R3        1786.798     17  3607.596     3608.719     3681.261\n",
            " 66  TN+F          1767.525     16  3567.050     3568.046     3636.383\n",
            " 67  TN+F+I        1761.458     17  3556.916     3558.039     3630.582\n",
            " 68  TN+F+G4       1761.265     17  3556.529     3557.652     3630.195\n",
            " 69  TN+F+I+G4     1761.367     18  3558.734     3559.991     3636.733\n",
            " 70  TN+F+R2       1761.315     18  3558.629     3559.887     3636.629\n",
            " 71  TN+F+R3       1761.272     20  3562.543     3564.093     3649.209\n",
            " 79  K3P           1792.874     13  3611.749     3612.412     3668.081\n",
            " 80  K3P+I         1786.752     14  3601.504     3602.271     3662.170\n",
            " 81  K3P+G4        1786.599     14  3601.198     3601.965     3661.864\n",
            " 82  K3P+I+G4      1786.678     15  3603.357     3604.234     3668.356\n",
            " 83  K3P+R2        1786.616     15  3603.233     3604.110     3668.232\n",
            " 84  K3P+R3        1786.592     17  3607.185     3608.308     3680.851\n",
            " 92  K3Pu+F        1768.262     16  3568.524     3569.520     3637.856\n",
            " 93  K3Pu+F+I      1761.639     17  3557.279     3558.402     3630.945\n",
            " 94  K3Pu+F+G4     1761.325     17  3556.649     3557.772     3630.315\n",
            " 95  K3Pu+F+I+G4   1761.493     18  3558.986     3560.244     3636.985\n",
            " 96  K3Pu+F+R2     1761.417     18  3558.834     3560.092     3636.833\n",
            " 97  K3Pu+F+R3     1761.335     20  3562.671     3564.220     3649.336\n",
            "105  TPM2+F        1769.078     16  3570.157     3571.153     3639.489\n",
            "106  TPM2+F+I      1762.369     17  3558.737     3559.860     3632.403\n",
            "107  TPM2+F+G4     1762.174     17  3558.347     3559.470     3632.013\n",
            "108  TPM2+F+I+G4   1762.257     18  3560.515     3561.772     3638.514\n",
            "109  TPM2+F+R2     1762.203     18  3560.406     3561.664     3638.405\n",
            "110  TPM2+F+R3     1762.166     20  3564.333     3565.883     3650.998\n",
            "118  TPM2u+F       1769.078     16  3570.157     3571.153     3639.489\n",
            "119  TPM2u+F+I     1762.369     17  3558.737     3559.860     3632.403\n",
            "120  TPM2u+F+G4    1762.174     17  3558.348     3559.471     3632.014\n",
            "121  TPM2u+F+I+G4  1762.256     18  3560.512     3561.770     3638.512\n",
            "122  TPM2u+F+R2    1762.199     18  3560.398     3561.655     3638.397\n",
            "123  TPM2u+F+R3    1762.166     20  3564.332     3565.882     3650.997\n",
            "131  TPM3+F        1766.125     16  3564.249     3565.246     3633.582\n",
            "132  TPM3+F+I      1760.192     17  3554.384     3555.507     3628.049\n",
            "133  TPM3+F+G4     1759.788     17  3553.576     3554.699     3627.241\n",
            "134  TPM3+F+I+G4   1760.051     18  3556.103     3557.360     3634.102\n",
            "135  TPM3+F+R2     1759.919     18  3555.837     3557.095     3633.837\n",
            "136  TPM3+F+R3     1759.814     20  3559.628     3561.178     3646.293\n",
            "144  TPM3u+F       1766.125     16  3564.249     3565.246     3633.582\n",
            "145  TPM3u+F+I     1760.192     17  3554.384     3555.507     3628.049\n",
            "146  TPM3u+F+G4    1759.787     17  3553.574     3554.697     3627.240\n",
            "147  TPM3u+F+I+G4  1760.047     18  3556.095     3557.352     3634.094\n",
            "148  TPM3u+F+R2    1759.914     18  3555.828     3557.085     3633.827\n",
            "149  TPM3u+F+R3    1759.809     20  3559.619     3561.169     3646.285\n",
            "157  TIMe          1792.812     14  3613.625     3614.391     3674.291\n",
            "158  TIMe+I        1786.576     15  3603.152     3604.030     3668.152\n",
            "159  TIMe+G4       1786.389     15  3602.779     3603.656     3667.778\n",
            "160  TIMe+I+G4     1786.482     16  3604.965     3605.961     3674.297\n",
            "161  TIMe+R2       1786.412     16  3604.824     3605.820     3674.156\n",
            "162  TIMe+R3       1786.382     18  3608.765     3610.022     3686.764\n",
            "170  TIM+F         1766.602     17  3567.204     3568.327     3640.870\n",
            "171  TIM+F+I       1760.515     18  3557.030     3558.287     3635.029\n",
            "172  TIM+F+G4      1760.210     18  3556.421     3557.678     3634.420\n",
            "173  TIM+F+I+G4    1760.377     19  3558.754     3560.153     3641.086\n",
            "174  TIM+F+R2      1760.302     19  3558.603     3560.003     3640.936\n",
            "175  TIM+F+R3      1760.227     21  3562.454     3564.162     3653.453\n",
            "183  TIM2e         1793.151     14  3614.302     3615.068     3674.968\n",
            "184  TIM2e+I       1786.934     15  3603.869     3604.746     3668.868\n",
            "185  TIM2e+G4      1786.804     15  3603.608     3604.485     3668.607\n",
            "186  TIM2e+I+G4    1786.856     16  3605.713     3606.709     3675.045\n",
            "187  TIM2e+R2      1786.801     16  3605.601     3606.597     3674.934\n",
            "188  TIM2e+R3      1786.791     18  3609.583     3610.840     3687.582\n",
            "196  TIM2+F        1767.431     17  3568.861     3569.984     3642.527\n",
            "197  TIM2+F+I      1761.266     18  3558.532     3559.790     3636.531\n",
            "198  TIM2+F+G4     1761.082     18  3558.164     3559.422     3636.163\n",
            "199  TIM2+F+I+G4   1761.159     19  3560.318     3561.717     3642.650\n",
            "200  TIM2+F+R2     1761.119     19  3560.238     3561.638     3642.571\n",
            "201  TIM2+F+R3     1761.087     21  3564.173     3565.881     3655.172\n",
            "209  TIM3e         1792.683     14  3613.366     3614.133     3674.032\n",
            "210  TIM3e+I       1786.685     15  3603.369     3604.247     3668.368\n",
            "211  TIM3e+G4      1786.511     15  3603.021     3603.899     3668.020\n",
            "212  TIM3e+I+G4    1786.598     16  3605.196     3606.192     3674.528\n",
            "213  TIM3e+R2      1786.526     16  3605.051     3606.048     3674.384\n",
            "214  TIM3e+R3      1786.503     18  3609.006     3610.263     3687.005\n",
            "222  TIM3+F        1764.518     17  3563.036     3564.159     3636.702\n",
            "223  TIM3+F+I      1759.069     18  3554.138     3555.396     3632.137\n",
            "224  TIM3+F+G4     1758.649     18  3553.299     3554.556     3631.298\n",
            "225  TIM3+F+I+G4   1758.936     19  3555.872     3557.271     3638.204\n",
            "226  TIM3+F+R2     1758.805     19  3555.609     3557.009     3637.942\n",
            "227  TIM3+F+R3     1758.686     21  3559.371     3561.079     3650.370\n",
            "235  TVMe          1792.463     15  3614.926     3615.804     3679.925\n",
            "236  TVMe+I        1786.567     16  3605.135     3606.131     3674.467\n",
            "237  TVMe+G4       1786.376     16  3604.752     3605.749     3674.085\n",
            "238  TVMe+I+G4     1786.475     17  3606.950     3608.073     3680.615\n",
            "239  TVMe+R2       1786.405     17  3606.809     3607.932     3680.475\n",
            "240  TVMe+R3       1786.374     19  3610.749     3612.148     3693.081\n",
            "248  TVM+F         1765.615     18  3567.230     3568.487     3645.229\n",
            "249  TVM+F+I       1759.552     19  3557.103     3558.503     3639.435\n",
            "250  TVM+F+G4      1759.109     19  3556.218     3557.617     3638.550\n",
            "251  TVM+F+I+G4    1759.369     20  3558.737     3560.287     3645.403\n",
            "252  TVM+F+R2      1759.240     20  3558.479     3560.029     3645.145\n",
            "253  TVM+F+R3      1759.127     22  3562.255     3564.129     3657.587\n",
            "261  SYM           1792.402     16  3616.804     3617.800     3686.136\n",
            "262  SYM+I         1786.383     17  3606.767     3607.889     3680.432\n",
            "263  SYM+G4        1786.161     17  3606.321     3607.444     3679.987\n",
            "264  SYM+I+G4      1786.274     18  3608.548     3609.805     3686.547\n",
            "265  SYM+R2        1786.197     18  3608.393     3609.651     3686.392\n",
            "266  SYM+R3        1786.156     20  3612.312     3613.862     3698.978\n",
            "274  GTR+F         1764.003     19  3566.006     3567.405     3648.338\n",
            "275  GTR+F+I       1758.445     20  3556.890     3558.440     3643.556\n",
            "276  GTR+F+G4      1757.983     20  3555.966     3557.516     3642.632\n",
            "277  GTR+F+I+G4    1758.277     21  3558.555     3560.263     3649.554\n",
            "278  GTR+F+R2      1758.140     21  3558.279     3559.987     3649.278\n",
            "279  GTR+F+R3      1758.013     23  3562.026     3564.074     3661.691\n",
            "Akaike Information Criterion:           TIM3+F+G4\n",
            "Corrected Akaike Information Criterion: TIM3+F+G4\n",
            "Bayesian Information Criterion:         HKY+F+G4\n",
            "Best-fit model: HKY+F+G4 chosen according to BIC\n",
            "\n",
            "All model information printed to seq_align.fasta.model.gz\n",
            "CPU time for ModelFinder: 0.174 seconds (0h:0m:0s)\n",
            "Wall-clock time for ModelFinder: 0.185 seconds (0h:0m:0s)\n",
            "\n",
            "NOTE: 0 MB RAM (0 GB) is required!\n",
            "Estimate model parameters (epsilon = 0.100)\n",
            "1. Initial log-likelihood: -1777.273\n",
            "2. Current log-likelihood: -1762.440\n",
            "Optimal log-likelihood: -1762.377\n",
            "Rate parameters:  A-C: 1.00000  A-G: 2.31584  A-T: 1.00000  C-G: 1.00000  C-T: 2.31584  G-T: 1.00000\n",
            "Base frequencies:  A: 0.355  C: 0.154  G: 0.248  T: 0.243\n",
            "Gamma shape alpha: 0.937\n",
            "Parameters optimization took 2 rounds (0.003 sec)\n",
            "Computing ML distances based on estimated model parameters... 0.000 sec\n",
            "Computing BIONJ tree...\n",
            "0.000 seconds\n",
            "Log-likelihood of BIONJ tree: -1762.376\n",
            "--------------------------------------------------------------------\n",
            "|             INITIALIZING CANDIDATE TREE SET                      |\n",
            "--------------------------------------------------------------------\n",
            "Generating 99 parsimony trees... 0.019 second\n",
            "Computing log-likelihood of 42 initial trees ... 0.019 seconds\n",
            "Current best score: -1762.376\n",
            "\n",
            "Do NNI search on 20 best initial trees\n",
            "Estimate model parameters (epsilon = 0.100)\n",
            "BETTER TREE FOUND at iteration 1: -1762.376\n",
            "Iteration 10 / LogL: -1762.387 / Time: 0h:0m:0s\n",
            "Iteration 20 / LogL: -1762.383 / Time: 0h:0m:0s\n",
            "Finish initializing candidate tree set (1)\n",
            "Current best tree score: -1762.376 / CPU time: 0.084\n",
            "Number of iterations: 20\n",
            "--------------------------------------------------------------------\n",
            "|               OPTIMIZING CANDIDATE TREE SET                      |\n",
            "--------------------------------------------------------------------\n",
            "UPDATE BEST LOG-LIKELIHOOD: -1762.376\n",
            "UPDATE BEST LOG-LIKELIHOOD: -1762.376\n",
            "UPDATE BEST LOG-LIKELIHOOD: -1762.376\n",
            "Iteration 30 / LogL: -1762.388 / Time: 0h:0m:0s (0h:0m:0s left)\n",
            "Iteration 40 / LogL: -1762.376 / Time: 0h:0m:0s (0h:0m:0s left)\n",
            "UPDATE BEST LOG-LIKELIHOOD: -1762.376\n",
            "UPDATE BEST LOG-LIKELIHOOD: -1762.376\n",
            "Iteration 50 / LogL: -1762.376 / Time: 0h:0m:0s (0h:0m:0s left)\n",
            "Iteration 60 / LogL: -1762.397 / Time: 0h:0m:0s (0h:0m:0s left)\n",
            "Iteration 70 / LogL: -1762.396 / Time: 0h:0m:0s (0h:0m:0s left)\n",
            "Iteration 80 / LogL: -1762.396 / Time: 0h:0m:0s (0h:0m:0s left)\n",
            "Iteration 90 / LogL: -1762.376 / Time: 0h:0m:0s (0h:0m:0s left)\n",
            "Iteration 100 / LogL: -1765.929 / Time: 0h:0m:0s (0h:0m:0s left)\n",
            "TREE SEARCH COMPLETED AFTER 102 ITERATIONS / Time: 0h:0m:0s\n",
            "\n",
            "--------------------------------------------------------------------\n",
            "|                    FINALIZING TREE SEARCH                        |\n",
            "--------------------------------------------------------------------\n",
            "Performs final model parameters optimization\n",
            "Estimate model parameters (epsilon = 0.010)\n",
            "1. Initial log-likelihood: -1762.376\n",
            "Optimal log-likelihood: -1762.376\n",
            "Rate parameters:  A-C: 1.00000  A-G: 2.32114  A-T: 1.00000  C-G: 1.00000  C-T: 2.32114  G-T: 1.00000\n",
            "Base frequencies:  A: 0.355  C: 0.154  G: 0.248  T: 0.243\n",
            "Gamma shape alpha: 0.931\n",
            "Parameters optimization took 1 rounds (0.001 sec)\n",
            "BEST SCORE FOUND : -1762.376\n",
            "Total tree length: 0.623\n",
            "\n",
            "Total number of iterations: 102\n",
            "CPU time used for tree search: 0.254 sec (0h:0m:0s)\n",
            "Wall-clock time used for tree search: 0.286 sec (0h:0m:0s)\n",
            "Total CPU time used: 0.434 sec (0h:0m:0s)\n",
            "Total wall-clock time used: 0.477 sec (0h:0m:0s)\n",
            "\n",
            "Analysis results written to: \n",
            "  IQ-TREE report:                seq_align.fasta.iqtree\n",
            "  Maximum-likelihood tree:       seq_align.fasta.treefile\n",
            "  Likelihood distances:          seq_align.fasta.mldist\n",
            "  Screen log file:               seq_align.fasta.log\n",
            "\n",
            "Date and Time: Tue Nov 16 17:37:13 2021\n"
          ]
        }
      ]
    },
    {
      "cell_type": "code",
      "metadata": {
        "colab": {
          "base_uri": "https://localhost:8080/",
          "height": 70
        },
        "id": "d1ade21b",
        "outputId": "2acb6b74-d311-408e-e740-a9bc92d52b61"
      },
      "source": [
        "f = open('seq_align.fasta.treefile')\n",
        "strtree = f.readline().strip()\n",
        "f.close()\n",
        "\n",
        "strtree"
      ],
      "id": "d1ade21b",
      "execution_count": 2,
      "outputs": [
        {
          "output_type": "execute_result",
          "data": {
            "application/vnd.google.colaboratory.intrinsic+json": {
              "type": "string"
            },
            "text/plain": [
              "'(HE583229.1:0.0379699663,((HE583264.1:0.0092242687,HE583249.1:0.0656921467):0.0123473620,((HE583260.1:0.1598263619,HE583255.1:0.0525960036):0.1539001348,HE583251.1:0.0394047197):0.0671351866):0.0084399519,HE583245.1:0.0167209486);'"
            ]
          },
          "metadata": {},
          "execution_count": 2
        }
      ]
    },
    {
      "cell_type": "code",
      "metadata": {
        "colab": {
          "base_uri": "https://localhost:8080/"
        },
        "id": "kNNTvGso00HR",
        "outputId": "d558d408-f76b-4924-f8cf-7e36f68446a9"
      },
      "source": [
        "!pip install PyQt5 ete3"
      ],
      "id": "kNNTvGso00HR",
      "execution_count": 20,
      "outputs": [
        {
          "output_type": "stream",
          "name": "stdout",
          "text": [
            "Collecting PyQt5\n",
            "  Downloading PyQt5-5.15.6-cp36-abi3-manylinux1_x86_64.whl (8.3 MB)\n",
            "\u001b[K     |████████████████████████████████| 8.3 MB 11.4 MB/s \n",
            "\u001b[?25hCollecting ete3\n",
            "  Downloading ete3-3.1.2.tar.gz (4.7 MB)\n",
            "\u001b[K     |████████████████████████████████| 4.7 MB 61.7 MB/s \n",
            "\u001b[?25hCollecting PyQt5-sip<13,>=12.8\n",
            "  Downloading PyQt5_sip-12.9.0-cp37-cp37m-manylinux1_x86_64.whl (317 kB)\n",
            "\u001b[K     |████████████████████████████████| 317 kB 65.9 MB/s \n",
            "\u001b[?25hCollecting PyQt5-Qt5>=5.15.2\n",
            "  Downloading PyQt5_Qt5-5.15.2-py3-none-manylinux2014_x86_64.whl (59.9 MB)\n",
            "\u001b[K     |████████████████████████████████| 59.9 MB 22 kB/s \n",
            "\u001b[?25hBuilding wheels for collected packages: ete3\n",
            "  Building wheel for ete3 (setup.py) ... \u001b[?25l\u001b[?25hdone\n",
            "  Created wheel for ete3: filename=ete3-3.1.2-py3-none-any.whl size=2273013 sha256=cbfd20d9f5dfd4f749dfed39028d0df68dd8e50c829ebf0c0e48421c696eb5a1\n",
            "  Stored in directory: /root/.cache/pip/wheels/17/fd/e2/6ac384d8c2484789304657dde01b96d7ab83f4f1dd96d266df\n",
            "Successfully built ete3\n",
            "Installing collected packages: PyQt5-sip, PyQt5-Qt5, PyQt5, ete3\n",
            "Successfully installed PyQt5-5.15.6 PyQt5-Qt5-5.15.2 PyQt5-sip-12.9.0 ete3-3.1.2\n"
          ]
        }
      ]
    },
    {
      "cell_type": "code",
      "metadata": {
        "colab": {
          "base_uri": "https://localhost:8080/"
        },
        "id": "9ad453ab",
        "outputId": "379c5135-a8a8-417c-8348-39b0edc6b900"
      },
      "source": [
        "import os\n",
        "import PyQt5\n",
        "from ete3 import PhyloTree, TreeStyle\n",
        "os.environ['QT_QPA_PLATFORM']='offscreen'\n",
        "\n",
        "t = PhyloTree(strtree)\n",
        "print(t)"
      ],
      "id": "9ad453ab",
      "execution_count": 5,
      "outputs": [
        {
          "output_type": "stream",
          "name": "stdout",
          "text": [
            "\n",
            "   /-HE583229.1\n",
            "  |\n",
            "  |      /-HE583264.1\n",
            "  |   /-|\n",
            "  |  |   \\-HE583249.1\n",
            "  |--|\n",
            "--|  |      /-HE583260.1\n",
            "  |  |   /-|\n",
            "  |   \\-|   \\-HE583255.1\n",
            "  |     |\n",
            "  |      \\-HE583251.1\n",
            "  |\n",
            "   \\-HE583245.1\n"
          ]
        }
      ]
    },
    {
      "cell_type": "code",
      "metadata": {
        "colab": {
          "base_uri": "https://localhost:8080/",
          "height": 195
        },
        "id": "27afeccc",
        "outputId": "5d8df290-a61b-4fbc-f3f5-f79e87c468cb"
      },
      "source": [
        "t.render(\"%%inline\")"
      ],
      "id": "27afeccc",
      "execution_count": 6,
      "outputs": [
        {
          "output_type": "execute_result",
          "data": {
            "image/png": "[encoded data removed]",
            "text/plain": [
              "<IPython.core.display.Image object>"
            ]
          },
          "metadata": {},
          "execution_count": 6
        }
      ]
    },
    {
      "cell_type": "code",
      "metadata": {
        "colab": {
          "base_uri": "https://localhost:8080/"
        },
        "id": "c0f54ad2",
        "outputId": "eef8248a-e584-474d-b73e-b52c36873a2a"
      },
      "source": [
        "t.render(\"hiv-1_tree.pdf\")"
      ],
      "id": "c0f54ad2",
      "execution_count": 7,
      "outputs": [
        {
          "output_type": "execute_result",
          "data": {
            "text/plain": [
              "{'faces': [[22.556037057200626,\n",
              "   1.0,\n",
              "   106.55603705720063,\n",
              "   19.0,\n",
              "   1,\n",
              "   'HE583229.1'],\n",
              "  [22.87634774568756, 19.0, 106.87634774568755, 37.0, 4, 'HE583264.1'],\n",
              "  [48.9851978530811, 37.0, 132.9851978530811, 55.0, 5, 'HE583249.1'],\n",
              "  [191.0, 55.0, 275.0, 73.0, 8, 'HE583260.1'],\n",
              "  [141.42028404508483, 73.0, 225.42028404508483, 91.0, 9, 'HE583255.1'],\n",
              "  [62.16282441343313, 91.0, 146.16282441343313, 109.0, 10, 'HE583251.1'],\n",
              "  [12.731204998545053, 109.0, 96.73120499854505, 127.0, 11, 'HE583245.1']],\n",
              " 'node_areas': {0: [1.0, 1.0, 275.0, 127.0],\n",
              "  1: [3.0, 1.0, 106.55603705720063, 19.0],\n",
              "  2: [3.0, 19.0, 275.0, 109.0],\n",
              "  3: [8.902350271967212, 19.0, 132.9851978530811, 55.0],\n",
              "  4: [16.611355729543057, 19.0, 106.87634774568755, 37.0],\n",
              "  5: [16.611355729543057, 37.0, 132.9851978530811, 55.0],\n",
              "  6: [8.902350271967212, 55.0, 275.0, 109.0],\n",
              "  7: [41.943405575502695, 55.0, 275.0, 91.0],\n",
              "  8: [115.10165860921613, 55.0, 275.0, 73.0],\n",
              "  9: [115.10165860921613, 73.0, 225.42028404508483, 91.0],\n",
              "  10: [41.943405575502695, 91.0, 146.16282441343313, 109.0],\n",
              "  11: [3.0, 109.0, 96.73120499854505, 127.0]},\n",
              " 'nodes': [[0.5, 62.5, 3.5, 65.5, 0, None],\n",
              "  [20.056037057200626, 8.5, 23.056037057200626, 11.5, 1, None],\n",
              "  [6.402350271967211, 60.25, 9.402350271967212, 63.25, 2, None],\n",
              "  [14.111355729543055, 35.5, 17.111355729543057, 38.5, 3, None],\n",
              "  [20.37634774568756, 26.5, 23.37634774568756, 29.5, 4, None],\n",
              "  [46.4851978530811, 44.5, 49.4851978530811, 47.5, 5, None],\n",
              "  [39.443405575502695, 85.0, 42.443405575502695, 88.0, 6, None],\n",
              "  [112.60165860921613, 71.5, 115.60165860921613, 74.5, 7, None],\n",
              "  [188.5, 62.5, 191.5, 65.5, 8, None],\n",
              "  [138.92028404508483, 80.5, 141.92028404508483, 83.5, 9, None],\n",
              "  [59.66282441343313, 98.5, 62.66282441343313, 101.5, 10, None],\n",
              "  [10.231204998545053, 116.5, 13.231204998545053, 119.5, 11, None]]}"
            ]
          },
          "metadata": {},
          "execution_count": 7
        }
      ]
    },
    {
      "cell_type": "code",
      "metadata": {
        "id": "3fada1f0"
      },
      "source": [
        "f = open('seq_align.fasta')\n",
        "fasta_txt = []\n",
        "for line in f:\n",
        "    fasta_txt.append(line.strip())\n",
        "f.close()\n",
        "t.link_to_alignment(alignment='\\n'.join(fasta_txt), alg_format=\"fasta\")"
      ],
      "id": "3fada1f0",
      "execution_count": 8,
      "outputs": []
    },
    {
      "cell_type": "code",
      "metadata": {
        "colab": {
          "base_uri": "https://localhost:8080/"
        },
        "id": "9dbcd65b",
        "outputId": "c47786ef-fa73-4237-a9a5-ba83508e0644"
      },
      "source": [
        "print('\\n'.join(fasta_txt))"
      ],
      "id": "9dbcd65b",
      "execution_count": 9,
      "outputs": [
        {
          "output_type": "stream",
          "name": "stdout",
          "text": [
            ">HE583229.1\n",
            "------------------------------------------------------------\n",
            "------------------------------------------------------------\n",
            "------------------------------------------------------------\n",
            "------------------------ttgatggaacaagagaaagagcacaagacagtggaa\n",
            "atgaaagcgagggggacacggaggaattggcaacccttgtggaaatgggggactttgatc\n",
            "cttgggttggtgataatttgtagtgcctcaaataacttgtgggtcacagtctattatggg\n",
            "gt--acctgtgtgggaggatgcagataccactctattttgtgcatctgatgctaaagcat\n",
            "atagtactgaaagccataatatctgggctacacatgcctgtgtacccacagaccccaacc\n",
            "cacaagagatatctctggataatgtaacagaaaattttaacatgtggaaaaaata-----\n",
            "-----------------------\n",
            ">HE583264.1\n",
            "----------------------aaggatcatcaaaatcctgtaccaaagcagtaagtagt\n",
            "aataactagtatatgtaatgcaacccttagaaatagctgcaatagtaggactaatagtag\n",
            "cagtcatagcagccataattgtgtggatcatagtctttatacaatataaggaaataagaa\n",
            "aacagaaagaaatacaaaggatacttgataaaataagagaaagagcagaagacagtggaa\n",
            "atgagagcgaaggggacacagatgaattggcaacccttgtggagatgggggattttgatc\n",
            "cttgggttggggataatttgtagtgcctcaaaggacttgtgggtcacagtctattatggg\n",
            "gt--acctgtgtgggaagatgcagataccactctattttgtgcatctgatgctaaagcat\n",
            "atagtactgaaagccataatgtctgggctacacatgcctgtgtacccacagaccccaacc\n",
            "cacaagagatacctctggaaaatgtaacagaaaattttaacatgtggaaaaataacatgg\n",
            "taga-------------------\n",
            ">HE583260.1\n",
            "-------------------------------------------cccaagcagtagg----\n",
            "------tagtatatgtaatgcaacctttagtgatattatcaatagtagcattagtagtag\n",
            "tggcaataatagcaatagttgtgtggaccatagtactcatagaatataggagaataagaa\n",
            "gacaaaggaaaatagactggttaattgataggataagagaaagagaacaagacagtggca\n",
            "atgagagtgagggggaccaagaagaactgtcatcaatggtggacagggggcatcttgctc\n",
            "cttgggatattgttga--------------------------------------------\n",
            "----gggcgtgta-----------------------------------------------\n",
            "------------------------------------------------------------\n",
            "------------------------------------------------------------\n",
            "-----------------------\n",
            ">HE583255.1\n",
            "----------------------cagactcgtgtagcgtctctatcaaagcagtaag----\n",
            "------tagtgcatgtaatgcaatctttacaaatattagcaatagtagcattagtggtag\n",
            "tagcaataatagcaatagttgtatggtctatagtcttaatagaatataggaaaatactaa\n",
            "gacaaaggaaaatagataggttaattgatagaataagagaaagagcagaagacagtggca\n",
            "atgagagtgaaggagatcaggaagaactggcggcacttgtggaaatggggcatgatgctc\n",
            "cttgggatgttaatgatctgtaatgttgcaggacaattgtgggtcacagtctattatgga\n",
            "gt--acctgtgtggaaagaaacaaccactactctattttgtgcatcagatgctaaagcat\n",
            "atgatacagaggtacataatgtttgggccacacatgcctgtgtacccacagaccccaacc\n",
            "cacaagaagtagtattggaaaatgtgacagaaaattttaacatgtggaaaaataacatgg\n",
            "tagaacagatgcatgaggatata\n",
            ">HE583251.1\n",
            "-------------------cagcaggatcatcaatatcctgtaccaaagcagtaagtatt\n",
            "aataattagtacatgtaatgcacccattagaaatatttgcaatagtaggactaatagtag\n",
            "caggcctagcagccataattgtgtgggtcatagtctttatacaatataaggaaataagaa\n",
            "aacagaagaaaatacaaaggatacttgatagaataagagaaagagcagaagacagtggaa\n",
            "atgaaagcgaaggggacacagatgaattggcaacccttgtggagatgggggactttgatc\n",
            "cttgggttggtgataatttgtattgcctcagactacttgtgggtcacagtctattatggg\n",
            "gt--acctgtgtggaaagacacaaccaccactctcttttgtgcatctgatgctaaagcat\n",
            "atgaaacagaggtacatgttgtttgggccacacatgcctgtgtacccgcacaccccgacc\n",
            "cacaagaagtagtattgaaaaatgtaacagaaaattatgatatgtggataaataacatgg\n",
            "tagagcaaatgcangaggatata\n",
            ">HE583249.1\n",
            "accaggacattctcagagcagtaaggaccgtctaaatcctgtaccaaagcagtaagtagt\n",
            "aataactagtatatgtaatgcaacccttagaaatagctgcaatagtaggactaatagtag\n",
            "caggcatagcagccataattgtgtggaccatagtctttatacaatataaggaaataagaa\n",
            "aacagaagaaaatacaaaggatacttgatggaataagagcaagagcacaagacagtggaa\n",
            "atgagagtgaaggggatacacatgaattggcaacccttgtggaaatgggggattttgatc\n",
            "cttgggttggggataatttgtagtgcctcaaaggacttgggggtcacactctattatggg\n",
            "gtaaaaaaggggggggagatgcccataccactctattttggggatctgatgcta------\n",
            "------------------------------------------------------------\n",
            "------------------------------------------------------------\n",
            "-----------------------\n",
            ">HE583245.1\n",
            "----------------------------------aatcctgtaccaaagcagtaagtagt\n",
            "aataattagtatatgtaatgcaaccattagaaatagctgcaatagtaggattaatagtag\n",
            "caggcatagcagccataattgtgtgggtcatagtctttatacaatataaggaaataagaa\n",
            "aacagaagaaagtacaaaggatacttgatagaataagagaaagagcagaagacagtggaa\n",
            "atgaaagcgaaggggacacagaggaattggctgccctggtggaaatgggggattttgatc\n",
            "cttgggttggtgataatttgtagtgccaaaaatgacttgtgggtcacagtctattatggg\n",
            "gt--acctgtgtgggaggatgcagacaccactctattttgtgcatctgatgctaaagcat\n",
            "atagtactgaaagccataatgtctgggctacacatgcctgtgtacccacagaccccaacc\n",
            "cacaagagatacctc---------------------------------------------\n",
            "-----------------------\n"
          ]
        }
      ]
    },
    {
      "cell_type": "code",
      "metadata": {
        "colab": {
          "base_uri": "https://localhost:8080/",
          "height": 327
        },
        "id": "3fbed1c2",
        "outputId": "1f5a2d72-d538-4b97-d1cc-dee6ba113e47"
      },
      "source": [
        "ts = TreeStyle()\n",
        "t.render(\"%%inline\", tree_style=ts)"
      ],
      "id": "3fbed1c2",
      "execution_count": 10,
      "outputs": [
        {
          "output_type": "execute_result",
          "data": {
            "image/png": "[encoded data removed]",
            "text/plain": [
              "<IPython.core.display.Image object>"
            ]
          },
          "metadata": {},
          "execution_count": 10
        }
      ]
    },
    {
      "cell_type": "code",
      "metadata": {
        "colab": {
          "base_uri": "https://localhost:8080/"
        },
        "id": "f6708630",
        "outputId": "09912de4-0b62-4ede-abd5-6f26266cca26"
      },
      "source": [
        "for leaf in t.iter_leaves():\n",
        "    print(leaf.name, leaf.sequence)"
      ],
      "id": "f6708630",
      "execution_count": 11,
      "outputs": [
        {
          "output_type": "stream",
          "name": "stdout",
          "text": [
            "HE583229.1 ------------------------------------------------------------------------------------------------------------------------------------------------------------------------------------------------------------ttgatggaacaagagaaagagcacaagacagtggaaatgaaagcgagggggacacggaggaattggcaacccttgtggaaatgggggactttgatccttgggttggtgataatttgtagtgcctcaaataacttgtgggtcacagtctattatggggt--acctgtgtgggaggatgcagataccactctattttgtgcatctgatgctaaagcatatagtactgaaagccataatatctgggctacacatgcctgtgtacccacagaccccaacccacaagagatatctctggataatgtaacagaaaattttaacatgtggaaaaaata----------------------------\n",
            "HE583264.1 ----------------------aaggatcatcaaaatcctgtaccaaagcagtaagtagtaataactagtatatgtaatgcaacccttagaaatagctgcaatagtaggactaatagtagcagtcatagcagccataattgtgtggatcatagtctttatacaatataaggaaataagaaaacagaaagaaatacaaaggatacttgataaaataagagaaagagcagaagacagtggaaatgagagcgaaggggacacagatgaattggcaacccttgtggagatgggggattttgatccttgggttggggataatttgtagtgcctcaaaggacttgtgggtcacagtctattatggggt--acctgtgtgggaagatgcagataccactctattttgtgcatctgatgctaaagcatatagtactgaaagccataatgtctgggctacacatgcctgtgtacccacagaccccaacccacaagagatacctctggaaaatgtaacagaaaattttaacatgtggaaaaataacatggtaga-------------------\n",
            "HE583249.1 accaggacattctcagagcagtaaggaccgtctaaatcctgtaccaaagcagtaagtagtaataactagtatatgtaatgcaacccttagaaatagctgcaatagtaggactaatagtagcaggcatagcagccataattgtgtggaccatagtctttatacaatataaggaaataagaaaacagaagaaaatacaaaggatacttgatggaataagagcaagagcacaagacagtggaaatgagagtgaaggggatacacatgaattggcaacccttgtggaaatgggggattttgatccttgggttggggataatttgtagtgcctcaaaggacttgggggtcacactctattatggggtaaaaaaggggggggagatgcccataccactctattttggggatctgatgcta-----------------------------------------------------------------------------------------------------------------------------------------------------\n",
            "HE583260.1 -------------------------------------------cccaagcagtagg----------tagtatatgtaatgcaacctttagtgatattatcaatagtagcattagtagtagtggcaataatagcaatagttgtgtggaccatagtactcatagaatataggagaataagaagacaaaggaaaatagactggttaattgataggataagagaaagagaacaagacagtggcaatgagagtgagggggaccaagaagaactgtcatcaatggtggacagggggcatcttgctccttgggatattgttga------------------------------------------------gggcgtgta----------------------------------------------------------------------------------------------------------------------------------------------------------------------------------------------\n",
            "HE583255.1 ----------------------cagactcgtgtagcgtctctatcaaagcagtaag----------tagtgcatgtaatgcaatctttacaaatattagcaatagtagcattagtggtagtagcaataatagcaatagttgtatggtctatagtcttaatagaatataggaaaatactaagacaaaggaaaatagataggttaattgatagaataagagaaagagcagaagacagtggcaatgagagtgaaggagatcaggaagaactggcggcacttgtggaaatggggcatgatgctccttgggatgttaatgatctgtaatgttgcaggacaattgtgggtcacagtctattatggagt--acctgtgtggaaagaaacaaccactactctattttgtgcatcagatgctaaagcatatgatacagaggtacataatgtttgggccacacatgcctgtgtacccacagaccccaacccacaagaagtagtattggaaaatgtgacagaaaattttaacatgtggaaaaataacatggtagaacagatgcatgaggatata\n",
            "HE583251.1 -------------------cagcaggatcatcaatatcctgtaccaaagcagtaagtattaataattagtacatgtaatgcacccattagaaatatttgcaatagtaggactaatagtagcaggcctagcagccataattgtgtgggtcatagtctttatacaatataaggaaataagaaaacagaagaaaatacaaaggatacttgatagaataagagaaagagcagaagacagtggaaatgaaagcgaaggggacacagatgaattggcaacccttgtggagatgggggactttgatccttgggttggtgataatttgtattgcctcagactacttgtgggtcacagtctattatggggt--acctgtgtggaaagacacaaccaccactctcttttgtgcatctgatgctaaagcatatgaaacagaggtacatgttgtttgggccacacatgcctgtgtacccgcacaccccgacccacaagaagtagtattgaaaaatgtaacagaaaattatgatatgtggataaataacatggtagagcaaatgcangaggatata\n",
            "HE583245.1 ----------------------------------aatcctgtaccaaagcagtaagtagtaataattagtatatgtaatgcaaccattagaaatagctgcaatagtaggattaatagtagcaggcatagcagccataattgtgtgggtcatagtctttatacaatataaggaaataagaaaacagaagaaagtacaaaggatacttgatagaataagagaaagagcagaagacagtggaaatgaaagcgaaggggacacagaggaattggctgccctggtggaaatgggggattttgatccttgggttggtgataatttgtagtgccaaaaatgacttgtgggtcacagtctattatggggt--acctgtgtgggaggatgcagacaccactctattttgtgcatctgatgctaaagcatatagtactgaaagccataatgtctgggctacacatgcctgtgtacccacagaccccaacccacaagagatacctc--------------------------------------------------------------------\n"
          ]
        }
      ]
    },
    {
      "cell_type": "code",
      "metadata": {
        "id": "2a37b63e"
      },
      "source": [
        ""
      ],
      "id": "2a37b63e",
      "execution_count": null,
      "outputs": []
    }
  ]
}